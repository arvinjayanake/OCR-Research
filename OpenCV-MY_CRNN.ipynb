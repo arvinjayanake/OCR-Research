{
 "cells": [
  {
   "cell_type": "code",
   "id": "initial_id",
   "metadata": {
    "collapsed": true,
    "ExecuteTime": {
     "end_time": "2025-08-31T14:51:31.290762Z",
     "start_time": "2025-08-31T14:51:31.287023Z"
    }
   },
   "source": "import json, cv2, numpy as np",
   "outputs": [],
   "execution_count": 51
  },
  {
   "metadata": {
    "ExecuteTime": {
     "end_time": "2025-08-31T14:51:31.319359Z",
     "start_time": "2025-08-31T14:51:31.312956Z"
    }
   },
   "cell_type": "code",
   "source": [
    "ONNX_PATH   = \".\\\\artifacts\\\\crnn_nc92_k2x1.onnx\"  # <- adjust to your file\n",
    "CHARSET_JSON= \".\\\\artifacts\\\\charset.json\"\n",
    "IMG_H, IMG_W = 32, 128\n",
    "BLANK_IDX = 0"
   ],
   "id": "b742b60c60e96908",
   "outputs": [],
   "execution_count": 52
  },
  {
   "metadata": {},
   "cell_type": "markdown",
   "source": "# load charset",
   "id": "48549eb45ce8a908"
  },
  {
   "metadata": {
    "ExecuteTime": {
     "end_time": "2025-08-31T14:51:31.357442Z",
     "start_time": "2025-08-31T14:51:31.350400Z"
    }
   },
   "cell_type": "code",
   "source": [
    "with open(CHARSET_JSON, \"r\") as f:\n",
    "    CHARS = json.load(f)[\"chars\"]\n",
    "idx2char = {i+1: c for i, c in enumerate(CHARS)}"
   ],
   "id": "92b880223404b000",
   "outputs": [],
   "execution_count": 53
  },
  {
   "metadata": {},
   "cell_type": "markdown",
   "source": "# CTC greedy decoder",
   "id": "b3b121334a131e72"
  },
  {
   "metadata": {
    "ExecuteTime": {
     "end_time": "2025-08-31T14:51:31.380503Z",
     "start_time": "2025-08-31T14:51:31.376727Z"
    }
   },
   "cell_type": "code",
   "source": [
    "def ctc_decode_from_logits(logits_np):\n",
    "    if logits_np.ndim == 3:       # T x B x C\n",
    "        argm = logits_np.argmax(2)[:, 0]\n",
    "    elif logits_np.ndim == 2:     # T x C\n",
    "        argm = logits_np.argmax(1)\n",
    "    else:                         # 1 x T x C\n",
    "        argm = logits_np[0].argmax(1)\n",
    "\n",
    "    out, prev = [], BLANK_IDX\n",
    "    for s in argm.tolist():\n",
    "        if s != prev and s != BLANK_IDX:\n",
    "            out.append(idx2char.get(int(s), \"\"))\n",
    "        prev = s\n",
    "    return \"\".join(out)"
   ],
   "id": "3524dd898fcae165",
   "outputs": [],
   "execution_count": 54
  },
  {
   "metadata": {},
   "cell_type": "markdown",
   "source": "# preprocess: grayscale, keep aspect ratio, pad to 128x32, normalize to [0,1]",
   "id": "c97d8593cc3cc610"
  },
  {
   "metadata": {
    "ExecuteTime": {
     "end_time": "2025-08-31T14:51:31.418839Z",
     "start_time": "2025-08-31T14:51:31.412125Z"
    }
   },
   "cell_type": "code",
   "source": [
    "def preprocess_for_crnn(bgr, target_h=IMG_H, target_w=IMG_W):\n",
    "    gray = cv2.cvtColor(bgr, cv2.COLOR_BGR2GRAY)\n",
    "\n",
    "    h, w = gray.shape\n",
    "    scale = min(target_w / w, target_h / h)  # fit in target\n",
    "    nw, nh = max(1, int(w * scale)), max(1, int(h * scale))\n",
    "\n",
    "    resized = cv2.resize(gray, (nw, nh), interpolation=cv2.INTER_LINEAR)\n",
    "\n",
    "    # create white canvas and paste resized centered (pad right/bottom)\n",
    "    canvas = np.full((target_h, target_w), 255, np.uint8)\n",
    "    y0 = (target_h - nh) // 2\n",
    "    x0 = 0  # left-align in width direction (common in OCR)\n",
    "    canvas[y0:y0+nh, x0:x0+nw] = resized\n",
    "\n",
    "    # to float32 blob 1x1xH xW\n",
    "    blob = canvas.astype(np.float32) / 255.0\n",
    "    blob = blob[np.newaxis, np.newaxis, :, :]\n",
    "    return blob"
   ],
   "id": "ac8264488a377e2f",
   "outputs": [],
   "execution_count": 55
  },
  {
   "metadata": {},
   "cell_type": "markdown",
   "source": "# load ONNX with OpenCV and run",
   "id": "c288658f2453df95"
  },
  {
   "metadata": {
    "ExecuteTime": {
     "end_time": "2025-08-31T14:51:31.539103Z",
     "start_time": "2025-08-31T14:51:31.442335Z"
    }
   },
   "cell_type": "code",
   "source": [
    "net = cv2.dnn.readNet(ONNX_PATH)\n",
    "\n",
    "def recognize_image_path(image_path):\n",
    "    bgr = cv2.imread(image_path, cv2.IMREAD_COLOR)\n",
    "    if bgr is None:\n",
    "        raise FileNotFoundError(f\"Could not read image: {image_path}\")\n",
    "    inp = preprocess_for_crnn(bgr)\n",
    "    net.setInput(inp)\n",
    "    logits = net.forward()\n",
    "    return ctc_decode_from_logits(logits)"
   ],
   "id": "5c1b6f2ca516e7d3",
   "outputs": [],
   "execution_count": 56
  },
  {
   "metadata": {
    "ExecuteTime": {
     "end_time": "2025-08-31T14:51:31.627141Z",
     "start_time": "2025-08-31T14:51:31.560854Z"
    }
   },
   "cell_type": "code",
   "source": [
    "text = recognize_image_path(\".\\\\artifacts\\\\000023.jpg\")\n",
    "print(\"Pred:\", text)"
   ],
   "id": "463ce51ea3c86133",
   "outputs": [
    {
     "name": "stdout",
     "output_type": "stream",
     "text": [
      "Pred: Bloodgroudabs\n"
     ]
    }
   ],
   "execution_count": 57
  }
 ],
 "metadata": {
  "kernelspec": {
   "display_name": "Python 3",
   "language": "python",
   "name": "python3"
  },
  "language_info": {
   "codemirror_mode": {
    "name": "ipython",
    "version": 2
   },
   "file_extension": ".py",
   "mimetype": "text/x-python",
   "name": "python",
   "nbconvert_exporter": "python",
   "pygments_lexer": "ipython2",
   "version": "2.7.6"
  }
 },
 "nbformat": 4,
 "nbformat_minor": 5
}
