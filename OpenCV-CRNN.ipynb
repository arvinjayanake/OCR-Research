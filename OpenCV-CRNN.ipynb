{
 "cells": [
  {
   "cell_type": "code",
   "id": "initial_id",
   "metadata": {
    "collapsed": true,
    "ExecuteTime": {
     "end_time": "2025-08-31T12:34:35.211380Z",
     "start_time": "2025-08-31T12:34:35.207335Z"
    }
   },
   "source": [
    "import cv2\n",
    "import numpy as np"
   ],
   "outputs": [],
   "execution_count": 44
  },
  {
   "metadata": {
    "ExecuteTime": {
     "end_time": "2025-08-31T12:34:35.237103Z",
     "start_time": "2025-08-31T12:34:35.217329Z"
    }
   },
   "cell_type": "code",
   "source": "img = cv2.imread(\".\\\\data\\\\tr.png\")",
   "id": "b742b60c60e96908",
   "outputs": [],
   "execution_count": 45
  },
  {
   "metadata": {},
   "cell_type": "markdown",
   "source": "# Load the CRNN model",
   "id": "48549eb45ce8a908"
  },
  {
   "metadata": {
    "ExecuteTime": {
     "end_time": "2025-08-31T12:34:35.302599Z",
     "start_time": "2025-08-31T12:34:35.250795Z"
    }
   },
   "cell_type": "code",
   "source": "model = cv2.dnn.readNet(\".\\\\models\\\\crnn.onnx\")",
   "id": "92b880223404b000",
   "outputs": [],
   "execution_count": 46
  },
  {
   "metadata": {},
   "cell_type": "markdown",
   "source": "# Prepare the Image",
   "id": "b3b121334a131e72"
  },
  {
   "metadata": {
    "ExecuteTime": {
     "end_time": "2025-08-31T12:34:35.315359Z",
     "start_time": "2025-08-31T12:34:35.312541Z"
    }
   },
   "cell_type": "code",
   "source": "img_gray = cv2.cvtColor(img, cv2.COLOR_BGR2GRAY)",
   "id": "3524dd898fcae165",
   "outputs": [],
   "execution_count": 47
  },
  {
   "metadata": {
    "ExecuteTime": {
     "end_time": "2025-08-31T12:34:35.330533Z",
     "start_time": "2025-08-31T12:34:35.328310Z"
    }
   },
   "cell_type": "code",
   "source": "blob = cv2.dnn.blobFromImage(img_gray, scalefactor=1/127.5, size=(100, 32), mean=127.5)",
   "id": "dfe00a1e24ae7566",
   "outputs": [],
   "execution_count": 48
  },
  {
   "metadata": {},
   "cell_type": "markdown",
   "source": "# Pass the image to the network and extract per-timestep scores",
   "id": "3d89a52882c8f8f1"
  },
  {
   "metadata": {
    "ExecuteTime": {
     "end_time": "2025-08-31T12:34:35.346865Z",
     "start_time": "2025-08-31T12:34:35.344421Z"
    }
   },
   "cell_type": "code",
   "source": "model.setInput(blob)",
   "id": "96841f71769bf45b",
   "outputs": [],
   "execution_count": 49
  },
  {
   "metadata": {
    "ExecuteTime": {
     "end_time": "2025-08-31T12:34:35.409460Z",
     "start_time": "2025-08-31T12:34:35.361318Z"
    }
   },
   "cell_type": "code",
   "source": "scores = model.forward()",
   "id": "e6e5f0a2e88bb4b1",
   "outputs": [],
   "execution_count": 50
  },
  {
   "metadata": {
    "ExecuteTime": {
     "end_time": "2025-08-31T12:34:35.429512Z",
     "start_time": "2025-08-31T12:34:35.425404Z"
    }
   },
   "cell_type": "code",
   "source": "scores.shape",
   "id": "c57d72bf8d58b5d0",
   "outputs": [
    {
     "data": {
      "text/plain": [
       "(26, 1, 37)"
      ]
     },
     "execution_count": 51,
     "metadata": {},
     "output_type": "execute_result"
    }
   ],
   "execution_count": 51
  },
  {
   "metadata": {
    "ExecuteTime": {
     "end_time": "2025-08-31T12:34:35.450532Z",
     "start_time": "2025-08-31T12:34:35.448246Z"
    }
   },
   "cell_type": "code",
   "source": [
    "alphabet_set = \"0123456789abcdefghijklmnopqrstuvwxyz\"\n",
    "blank = '-'"
   ],
   "id": "a35c1c41dca36f8",
   "outputs": [],
   "execution_count": 52
  },
  {
   "metadata": {
    "ExecuteTime": {
     "end_time": "2025-08-31T12:34:35.477402Z",
     "start_time": "2025-08-31T12:34:35.474095Z"
    }
   },
   "cell_type": "code",
   "source": "char_set = blank + alphabet_set",
   "id": "5152b67b8967f4d",
   "outputs": [],
   "execution_count": 53
  },
  {
   "metadata": {},
   "cell_type": "markdown",
   "source": "# Decode the scores to text",
   "id": "d0c40483e2e9e53e"
  },
  {
   "metadata": {
    "ExecuteTime": {
     "end_time": "2025-08-31T12:34:35.496788Z",
     "start_time": "2025-08-31T12:34:35.493989Z"
    }
   },
   "cell_type": "code",
   "source": [
    "# Decode the scores to text\n",
    "def most_likely(scores, char_set):\n",
    "    text = \"\"\n",
    "    for i in range(scores.shape[0]):\n",
    "        c = np.argmax(scores[i][0])\n",
    "        text += char_set[c]\n",
    "    return text"
   ],
   "id": "ce6deb0f01f10bb",
   "outputs": [],
   "execution_count": 54
  },
  {
   "metadata": {
    "ExecuteTime": {
     "end_time": "2025-08-31T12:34:35.516818Z",
     "start_time": "2025-08-31T12:34:35.513823Z"
    }
   },
   "cell_type": "code",
   "source": [
    "def map_rule(text):\n",
    "    char_list = []\n",
    "    for i in range(len(text)):\n",
    "        if i == 0:\n",
    "            if text[i] != '-':\n",
    "                char_list.append(text[i])\n",
    "        else:\n",
    "            if text[i] != '-' and (not (text[i] == text[i - 1])):\n",
    "                char_list.append(text[i])\n",
    "    return ''.join(char_list)"
   ],
   "id": "581d00c7ca1284b5",
   "outputs": [],
   "execution_count": 55
  },
  {
   "metadata": {
    "ExecuteTime": {
     "end_time": "2025-08-31T12:34:35.535278Z",
     "start_time": "2025-08-31T12:34:35.532848Z"
    }
   },
   "cell_type": "code",
   "source": [
    "def best_path(scores, char_set):\n",
    "    text = most_likely(scores, char_set)\n",
    "    final_text = map_rule(text)\n",
    "    return final_text"
   ],
   "id": "2f830c9031c1506d",
   "outputs": [],
   "execution_count": 56
  },
  {
   "metadata": {
    "ExecuteTime": {
     "end_time": "2025-08-31T12:34:35.556723Z",
     "start_time": "2025-08-31T12:34:35.552791Z"
    }
   },
   "cell_type": "code",
   "source": [
    "out = best_path(scores, char_set)\n",
    "print(out)"
   ],
   "id": "6b31468b5c3523d9",
   "outputs": [
    {
     "name": "stdout",
     "output_type": "stream",
     "text": [
      "male\n"
     ]
    }
   ],
   "execution_count": 57
  }
 ],
 "metadata": {
  "kernelspec": {
   "display_name": "Python 3",
   "language": "python",
   "name": "python3"
  },
  "language_info": {
   "codemirror_mode": {
    "name": "ipython",
    "version": 2
   },
   "file_extension": ".py",
   "mimetype": "text/x-python",
   "name": "python",
   "nbconvert_exporter": "python",
   "pygments_lexer": "ipython2",
   "version": "2.7.6"
  }
 },
 "nbformat": 4,
 "nbformat_minor": 5
}
