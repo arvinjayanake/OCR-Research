{
 "cells": [
  {
   "cell_type": "code",
   "id": "initial_id",
   "metadata": {
    "collapsed": true,
    "ExecuteTime": {
     "end_time": "2025-08-31T05:33:56.541758Z",
     "start_time": "2025-08-31T05:33:56.333395Z"
    }
   },
   "source": [
    "import cv2\n",
    "import numpy as np"
   ],
   "outputs": [],
   "execution_count": 1
  },
  {
   "metadata": {
    "ExecuteTime": {
     "end_time": "2025-08-31T05:41:24.556614Z",
     "start_time": "2025-08-31T05:41:24.550531Z"
    }
   },
   "cell_type": "code",
   "source": "img = cv2.imread(r'C:\\icbt\\final_project\\python\\udamy_tests\\data\\aadhar_demo2.jpg')",
   "id": "50f42eaa9884aba9",
   "outputs": [],
   "execution_count": 2
  },
  {
   "metadata": {},
   "cell_type": "markdown",
   "source": "# Loath the EAST Model",
   "id": "7c0ae1a6f3f7e062"
  },
  {
   "metadata": {
    "ExecuteTime": {
     "end_time": "2025-08-31T05:42:16.913936Z",
     "start_time": "2025-08-31T05:42:16.910381Z"
    }
   },
   "cell_type": "code",
   "source": "model = cv2.imread(r'C:\\icbt\\final_project\\python\\udamy_tests\\models\\frozen_east_text_detection.pb')",
   "id": "c35f830f1899108",
   "outputs": [],
   "execution_count": 3
  },
  {
   "metadata": {
    "ExecuteTime": {
     "end_time": "2025-08-31T05:44:26.917749Z",
     "start_time": "2025-08-31T05:44:26.913670Z"
    }
   },
   "cell_type": "code",
   "source": [
    "# Use multiple of 32 to set the new image shape\n",
    "height, width, _ = img.shape\n",
    "new_height = (height//32)*32\n",
    "new_width = (width//32)*32\n",
    "print(new_height, new_width)"
   ],
   "id": "308147d990c3018d",
   "outputs": [
    {
     "name": "stdout",
     "output_type": "stream",
     "text": [
      "384 640\n"
     ]
    }
   ],
   "execution_count": 4
  },
  {
   "metadata": {
    "ExecuteTime": {
     "end_time": "2025-08-31T05:45:16.844055Z",
     "start_time": "2025-08-31T05:45:16.839216Z"
    }
   },
   "cell_type": "code",
   "source": [
    "# Get the ratio change in width and height\n",
    "h_ratio = height / new_height\n",
    "w_ratio = width / new_width\n",
    "print(h_ratio, w_ratio)"
   ],
   "id": "e147601cd6ebdbf7",
   "outputs": [
    {
     "name": "stdout",
     "output_type": "stream",
     "text": [
      "1.0208333333333333 1.0\n"
     ]
    }
   ],
   "execution_count": 5
  },
  {
   "metadata": {},
   "cell_type": "code",
   "outputs": [],
   "execution_count": null,
   "source": "",
   "id": "4b999e3f0bf0d1de"
  }
 ],
 "metadata": {
  "kernelspec": {
   "display_name": "Python 3",
   "language": "python",
   "name": "python3"
  },
  "language_info": {
   "codemirror_mode": {
    "name": "ipython",
    "version": 2
   },
   "file_extension": ".py",
   "mimetype": "text/x-python",
   "name": "python",
   "nbconvert_exporter": "python",
   "pygments_lexer": "ipython2",
   "version": "2.7.6"
  }
 },
 "nbformat": 4,
 "nbformat_minor": 5
}
