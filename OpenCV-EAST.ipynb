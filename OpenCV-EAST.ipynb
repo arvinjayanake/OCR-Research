{
 "cells": [
  {
   "cell_type": "code",
   "id": "initial_id",
   "metadata": {
    "collapsed": true,
    "ExecuteTime": {
     "end_time": "2025-08-31T10:32:52.097431Z",
     "start_time": "2025-08-31T10:32:52.093650Z"
    }
   },
   "source": [
    "import cv2\n",
    "import numpy as np"
   ],
   "outputs": [],
   "execution_count": 56
  },
  {
   "metadata": {
    "ExecuteTime": {
     "end_time": "2025-08-31T10:32:52.127430Z",
     "start_time": "2025-08-31T10:32:52.121664Z"
    }
   },
   "cell_type": "code",
   "source": "img = cv2.imread(\".\\\\data\\\\aadhar_demo2.jpg\")",
   "id": "50f42eaa9884aba9",
   "outputs": [],
   "execution_count": 57
  },
  {
   "metadata": {},
   "cell_type": "markdown",
   "source": "# Load the EAST Model",
   "id": "7c0ae1a6f3f7e062"
  },
  {
   "metadata": {
    "ExecuteTime": {
     "end_time": "2025-08-31T10:32:52.519030Z",
     "start_time": "2025-08-31T10:32:52.136778Z"
    }
   },
   "cell_type": "code",
   "source": [
    "model_path = \".\\\\models\\\\frozen_east_text_detection.pb\"\n",
    "net = cv2.dnn.readNet(model_path)\n",
    "if net.empty():\n",
    "    raise Exception(\"Model not loaded, check the path!\")"
   ],
   "id": "c35f830f1899108",
   "outputs": [],
   "execution_count": 58
  },
  {
   "metadata": {
    "ExecuteTime": {
     "end_time": "2025-08-31T10:32:52.544551Z",
     "start_time": "2025-08-31T10:32:52.539863Z"
    }
   },
   "cell_type": "code",
   "source": [
    "# Use multiple of 32 to set the new image shape\n",
    "height, width, _ = img.shape\n",
    "new_height = (height//32)*32\n",
    "new_width = (width//32)*32\n",
    "print(new_height, new_width)"
   ],
   "id": "308147d990c3018d",
   "outputs": [
    {
     "name": "stdout",
     "output_type": "stream",
     "text": [
      "384 640\n"
     ]
    }
   ],
   "execution_count": 59
  },
  {
   "metadata": {
    "ExecuteTime": {
     "end_time": "2025-08-31T10:32:52.606018Z",
     "start_time": "2025-08-31T10:32:52.601322Z"
    }
   },
   "cell_type": "code",
   "source": [
    "# Get the ratio change in width and height\n",
    "h_ratio = height / new_height\n",
    "w_ratio = width / new_width\n",
    "print(h_ratio, w_ratio)"
   ],
   "id": "e147601cd6ebdbf7",
   "outputs": [
    {
     "name": "stdout",
     "output_type": "stream",
     "text": [
      "1.0208333333333333 1.0\n"
     ]
    }
   ],
   "execution_count": 60
  },
  {
   "metadata": {
    "ExecuteTime": {
     "end_time": "2025-08-31T10:32:52.638151Z",
     "start_time": "2025-08-31T10:32:52.631353Z"
    }
   },
   "cell_type": "code",
   "source": "blob = cv2.dnn.blobFromImage(img, 1, (new_width, new_height), (123.68, 116.78, 103.94), True, False)",
   "id": "4b999e3f0bf0d1de",
   "outputs": [],
   "execution_count": 61
  },
  {
   "metadata": {
    "ExecuteTime": {
     "end_time": "2025-08-31T10:32:52.690023Z",
     "start_time": "2025-08-31T10:32:52.685777Z"
    }
   },
   "cell_type": "code",
   "source": "print(cv2.__version__)",
   "id": "9b19becfdf5622ca",
   "outputs": [
    {
     "name": "stdout",
     "output_type": "stream",
     "text": [
      "4.12.0\n"
     ]
    }
   ],
   "execution_count": 62
  },
  {
   "metadata": {},
   "cell_type": "markdown",
   "source": "# Pass the image to network and extract score and geometry map",
   "id": "bb7efe09d49f9b14"
  },
  {
   "metadata": {
    "ExecuteTime": {
     "end_time": "2025-08-31T10:32:52.770805Z",
     "start_time": "2025-08-31T10:32:52.765632Z"
    }
   },
   "cell_type": "code",
   "source": "net.setInput(blob)",
   "id": "d1525d8ee8dbc78f",
   "outputs": [],
   "execution_count": 63
  },
  {
   "metadata": {
    "ExecuteTime": {
     "end_time": "2025-08-31T10:32:52.800060Z",
     "start_time": "2025-08-31T10:32:52.793065Z"
    }
   },
   "cell_type": "code",
   "source": "net.getUnconnectedOutLayersNames()",
   "id": "f2e8e0c3aa9a714c",
   "outputs": [
    {
     "data": {
      "text/plain": [
       "('feature_fusion/concat_3', 'feature_fusion/Conv_7/Sigmoid')"
      ]
     },
     "execution_count": 64,
     "metadata": {},
     "output_type": "execute_result"
    }
   ],
   "execution_count": 64
  },
  {
   "metadata": {
    "ExecuteTime": {
     "end_time": "2025-08-31T10:32:53.477104Z",
     "start_time": "2025-08-31T10:32:52.833051Z"
    }
   },
   "cell_type": "code",
   "source": "(geometry, scores) = net.forward(net.getUnconnectedOutLayersNames())",
   "id": "606facf8c1fe5df4",
   "outputs": [],
   "execution_count": 65
  },
  {
   "metadata": {},
   "cell_type": "markdown",
   "source": "# Post-Processing",
   "id": "4ba3b16e6985def8"
  },
  {
   "metadata": {
    "ExecuteTime": {
     "end_time": "2025-08-31T10:40:48.554942Z",
     "start_time": "2025-08-31T10:40:48.539748Z"
    }
   },
   "cell_type": "code",
   "source": [
    "rectangles = []\n",
    "confidence_score = []\n",
    "for i in range(geometry.shape[2]):\n",
    "    for j in range(0, geometry.shape[3]):\n",
    "\n",
    "        if scores[0][0][i][j] < 0.1:\n",
    "            continue\n",
    "\n",
    "        bottom_x = int(j*4 + geometry[0][1][i][j])\n",
    "        bottom_y = int(i*4 + geometry[0][2][i][j])\n",
    "\n",
    "\n",
    "        top_x = int(j*4 - geometry[0][3][i][j])\n",
    "        top_y = int(i*4 - geometry[0][0][i][j])\n",
    "\n",
    "        rectangles.append((top_x, top_y, bottom_x, bottom_y))\n",
    "        confidence_score.append(float(scores[0][0][i][j]))"
   ],
   "id": "f561db00c63932ee",
   "outputs": [],
   "execution_count": 66
  },
  {
   "metadata": {
    "ExecuteTime": {
     "end_time": "2025-08-31T10:42:21.359523Z",
     "start_time": "2025-08-31T10:42:21.341194Z"
    }
   },
   "cell_type": "code",
   "source": "from imutils.object_detection import non_max_suppression",
   "id": "856a44fa7b67bd4c",
   "outputs": [],
   "execution_count": 67
  },
  {
   "metadata": {
    "ExecuteTime": {
     "end_time": "2025-08-31T10:42:42.239015Z",
     "start_time": "2025-08-31T10:42:42.232242Z"
    }
   },
   "cell_type": "code",
   "source": [
    "# use Non-max suppression to get the required rectangles\n",
    "fin_boxes = non_max_suppression(np.array(rectangles), probs=confidence_score, overlapThresh=0.5)"
   ],
   "id": "ea5fdf3ed7c7aaee",
   "outputs": [],
   "execution_count": 68
  },
  {
   "metadata": {
    "ExecuteTime": {
     "end_time": "2025-08-31T10:43:15.520645Z",
     "start_time": "2025-08-31T10:43:15.514787Z"
    }
   },
   "cell_type": "code",
   "source": [
    "img_copy = img.copy()\n",
    "for (x1, y1, x2, y2) in fin_boxes:\n",
    "\n",
    "    x1 = int(x1 * w_ratio)\n",
    "    y1 = int(y1 * h_ratio)\n",
    "    x2 = int(x2 * w_ratio)\n",
    "    y2 = int(y2 * h_ratio)\n",
    "\n",
    "    cv2.rectangle(img_copy, (x1, y1), (x2, y2), (0, 255, 0), 2)"
   ],
   "id": "7df9aac0ef703aea",
   "outputs": [],
   "execution_count": 70
  },
  {
   "metadata": {
    "ExecuteTime": {
     "end_time": "2025-08-31T10:44:02.643443Z",
     "start_time": "2025-08-31T10:43:45.550137Z"
    }
   },
   "cell_type": "code",
   "source": [
    "cv2.imshow(\"original Image\", img)\n",
    "cv2.imshow(\"Text Detection\", img_copy)\n",
    "cv2.waitKey(0)"
   ],
   "id": "78817f62e753b7f6",
   "outputs": [
    {
     "data": {
      "text/plain": [
       "-1"
      ]
     },
     "execution_count": 72,
     "metadata": {},
     "output_type": "execute_result"
    }
   ],
   "execution_count": 72
  }
 ],
 "metadata": {
  "kernelspec": {
   "display_name": "Python 3",
   "language": "python",
   "name": "python3"
  },
  "language_info": {
   "codemirror_mode": {
    "name": "ipython",
    "version": 2
   },
   "file_extension": ".py",
   "mimetype": "text/x-python",
   "name": "python",
   "nbconvert_exporter": "python",
   "pygments_lexer": "ipython2",
   "version": "2.7.6"
  }
 },
 "nbformat": 4,
 "nbformat_minor": 5
}
