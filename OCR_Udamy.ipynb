{
 "nbformat": 4,
 "nbformat_minor": 0,
 "metadata": {
  "colab": {
   "provenance": [],
   "machine_shape": "hm",
   "gpuType": "A100"
  },
  "kernelspec": {
   "name": "python3",
   "display_name": "Python 3"
  },
  "language_info": {
   "name": "python"
  }
 },
 "cells": [
  {
   "cell_type": "markdown",
   "source": [
    "# Image Resizing"
   ],
   "metadata": {
    "id": "BTMoFffwygmH"
   }
  },
  {
   "cell_type": "markdown",
   "source": [
    "## Import Libs"
   ],
   "metadata": {
    "id": "-UnxS6pEy93H"
   }
  },
  {
   "cell_type": "code",
   "metadata": {
    "id": "qL84HOdox85K",
    "ExecuteTime": {
     "end_time": "2025-08-31T05:14:25.183151Z",
     "start_time": "2025-08-31T05:14:25.180445Z"
    }
   },
   "source": [
    "import cv2\n",
    "import numpy as np"
   ],
   "outputs": [],
   "execution_count": 52
  },
  {
   "cell_type": "markdown",
   "source": [
    "## Divide by Max"
   ],
   "metadata": {
    "id": "mnXXIdlhySlE"
   }
  },
  {
   "cell_type": "code",
   "source": [
    "def divide_by_max(img):\n",
    "  return img/255"
   ],
   "metadata": {
    "id": "5H3e1v_ZyNaX",
    "ExecuteTime": {
     "end_time": "2025-08-31T05:14:25.208118Z",
     "start_time": "2025-08-31T05:14:25.204833Z"
    }
   },
   "outputs": [],
   "execution_count": 53
  },
  {
   "cell_type": "markdown",
   "source": [
    "## Min-Max Scaling"
   ],
   "metadata": {
    "id": "7SJW2CM6yara"
   }
  },
  {
   "cell_type": "code",
   "source": [
    "def min_max(img):\n",
    "  img_min = np.min(img)\n",
    "  img_max = np.max(img)\n",
    "  return (img - img_min) / (img_max - img_min)"
   ],
   "metadata": {
    "id": "dAWK0SMeyeMV",
    "ExecuteTime": {
     "end_time": "2025-08-31T05:14:25.257586Z",
     "start_time": "2025-08-31T05:14:25.254147Z"
    }
   },
   "outputs": [],
   "execution_count": 54
  },
  {
   "cell_type": "markdown",
   "source": [
    "## Standardization"
   ],
   "metadata": {
    "id": "F3TgjbK6y4fY"
   }
  },
  {
   "cell_type": "code",
   "source": [
    "def standardize(img):\n",
    "  mu = img.mean()\n",
    "  std = img.std()\n",
    "  return (img - mu) / std"
   ],
   "metadata": {
    "id": "Di-aowpUy7BM",
    "ExecuteTime": {
     "end_time": "2025-08-31T05:14:25.329929Z",
     "start_time": "2025-08-31T05:14:25.326381Z"
    }
   },
   "outputs": [],
   "execution_count": 55
  },
  {
   "cell_type": "markdown",
   "source": [
    "# Greyscale Conversion"
   ],
   "metadata": {
    "id": "en3XAA0lzy7O"
   }
  },
  {
   "cell_type": "code",
   "source": "img = cv2.imread(r'C:\\icbt\\final_project\\python\\udamy_tests\\data\\arvin.jpg')",
   "metadata": {
    "id": "0xpRdoSlz6NX",
    "ExecuteTime": {
     "end_time": "2025-08-31T05:14:25.372118Z",
     "start_time": "2025-08-31T05:14:25.364977Z"
    }
   },
   "outputs": [],
   "execution_count": 56
  },
  {
   "cell_type": "code",
   "source": [
    "cv2.imshow(\"img\", img)\n",
    "cv2.waitKey(0)"
   ],
   "metadata": {
    "colab": {
     "base_uri": "https://localhost:8080/",
     "height": 977
    },
    "id": "F4pdiHLA0NQG",
    "outputId": "a4bf5770-5394-4208-e822-b1e80bb01c7b",
    "ExecuteTime": {
     "end_time": "2025-08-31T05:14:26.620963Z",
     "start_time": "2025-08-31T05:14:25.400204Z"
    }
   },
   "outputs": [
    {
     "data": {
      "text/plain": [
       "-1"
      ]
     },
     "execution_count": 57,
     "metadata": {},
     "output_type": "execute_result"
    }
   ],
   "execution_count": 57
  },
  {
   "cell_type": "code",
   "source": [
    "out = cv2.cvtColor(img, cv2.COLOR_BGR2GRAY)"
   ],
   "metadata": {
    "id": "WRV8ItW-2USI",
    "ExecuteTime": {
     "end_time": "2025-08-31T05:14:26.667433Z",
     "start_time": "2025-08-31T05:14:26.664790Z"
    }
   },
   "outputs": [],
   "execution_count": 58
  },
  {
   "cell_type": "code",
   "source": [
    "cv2.imshow(\"img\", out)\n",
    "cv2.waitKey(0)"
   ],
   "metadata": {
    "colab": {
     "base_uri": "https://localhost:8080/",
     "height": 977
    },
    "id": "tecIlJWI2kFA",
    "outputId": "4f076731-d31a-4598-ff17-19339e215d0e",
    "ExecuteTime": {
     "end_time": "2025-08-31T05:14:27.618785Z",
     "start_time": "2025-08-31T05:14:26.696488Z"
    }
   },
   "outputs": [
    {
     "data": {
      "text/plain": [
       "-1"
      ]
     },
     "execution_count": 59,
     "metadata": {},
     "output_type": "execute_result"
    }
   ],
   "execution_count": 59
  },
  {
   "cell_type": "markdown",
   "source": [
    "# Resize Image"
   ],
   "metadata": {
    "id": "JVM0n1NpHphW"
   }
  },
  {
   "cell_type": "markdown",
   "source": [
    "## Using Desize"
   ],
   "metadata": {
    "id": "oipYMVqlH80-"
   }
  },
  {
   "cell_type": "code",
   "source": [
    "img.shape"
   ],
   "metadata": {
    "colab": {
     "base_uri": "https://localhost:8080/"
    },
    "id": "ysWRDSCqH_3x",
    "outputId": "47afc557-ad69-4905-a4f5-a4a79bf45b01",
    "ExecuteTime": {
     "end_time": "2025-08-31T05:14:27.651764Z",
     "start_time": "2025-08-31T05:14:27.647019Z"
    }
   },
   "outputs": [
    {
     "data": {
      "text/plain": [
       "(960, 953, 3)"
      ]
     },
     "execution_count": 60,
     "metadata": {},
     "output_type": "execute_result"
    }
   ],
   "execution_count": 60
  },
  {
   "cell_type": "code",
   "source": [
    "out = cv2.resize(img, (200, 200))\n",
    "print(out.shape)\n",
    "cv2.imshow(\"img\", out)\n",
    "cv2.waitKey(0)"
   ],
   "metadata": {
    "colab": {
     "base_uri": "https://localhost:8080/",
     "height": 235
    },
    "id": "5IkGAA_QIO18",
    "outputId": "0cf90f49-9988-4dce-d12e-027490f028ca",
    "ExecuteTime": {
     "end_time": "2025-08-31T05:14:28.857298Z",
     "start_time": "2025-08-31T05:14:27.680547Z"
    }
   },
   "outputs": [
    {
     "name": "stdout",
     "output_type": "stream",
     "text": [
      "(200, 200, 3)\n"
     ]
    },
    {
     "data": {
      "text/plain": [
       "-1"
      ]
     },
     "execution_count": 61,
     "metadata": {},
     "output_type": "execute_result"
    }
   ],
   "execution_count": 61
  },
  {
   "cell_type": "markdown",
   "source": [
    "## Using FX and FY"
   ],
   "metadata": {
    "id": "pyV37-hhIg-a"
   }
  },
  {
   "cell_type": "code",
   "source": [
    "out = cv2.resize(img, None, fx=0.2, fy=0.2)\n",
    "print(out.shape)\n",
    "cv2.imshow(\"img\", out)\n",
    "cv2.waitKey(0)"
   ],
   "metadata": {
    "colab": {
     "base_uri": "https://localhost:8080/",
     "height": 227
    },
    "id": "XUQkLSZFIj0I",
    "outputId": "6ed2a68c-0106-4968-b848-5885f2a7a3b4",
    "ExecuteTime": {
     "end_time": "2025-08-31T05:14:29.746779Z",
     "start_time": "2025-08-31T05:14:28.882863Z"
    }
   },
   "outputs": [
    {
     "name": "stdout",
     "output_type": "stream",
     "text": [
      "(192, 191, 3)\n"
     ]
    },
    {
     "data": {
      "text/plain": [
       "-1"
      ]
     },
     "execution_count": 62,
     "metadata": {},
     "output_type": "execute_result"
    }
   ],
   "execution_count": 62
  },
  {
   "cell_type": "markdown",
   "source": [
    "# Noice Removal"
   ],
   "metadata": {
    "id": "jWeg1CSmLXge"
   }
  },
  {
   "cell_type": "code",
   "source": "img = cv2.imread(r'C:\\icbt\\final_project\\python\\udamy_tests\\data\\noisy_image.png')",
   "metadata": {
    "id": "3YwA7XmILZh-",
    "ExecuteTime": {
     "end_time": "2025-08-31T05:14:29.780572Z",
     "start_time": "2025-08-31T05:14:29.770653Z"
    }
   },
   "outputs": [],
   "execution_count": 63
  },
  {
   "cell_type": "code",
   "source": [
    "out = cv2.medianBlur(img, 5)\n",
    "cv2.imshow(\"img\", img)\n",
    "cv2.waitKey(0)\n",
    "cv2.imshow(\"img\", out)\n",
    "cv2.waitKey(0)"
   ],
   "metadata": {
    "colab": {
     "base_uri": "https://localhost:8080/",
     "height": 659
    },
    "id": "3PGcpiSZMlEK",
    "outputId": "1420a75a-0b08-4160-db24-b5a60a92930f",
    "ExecuteTime": {
     "end_time": "2025-08-31T05:14:32.442549Z",
     "start_time": "2025-08-31T05:14:29.824093Z"
    }
   },
   "outputs": [
    {
     "data": {
      "text/plain": [
       "-1"
      ]
     },
     "execution_count": 64,
     "metadata": {},
     "output_type": "execute_result"
    }
   ],
   "execution_count": 64
  },
  {
   "cell_type": "markdown",
   "source": [
    "# Skew Correction"
   ],
   "metadata": {
    "id": "HJyw4SJDNJr-"
   }
  },
  {
   "cell_type": "markdown",
   "source": [
    "## Load Image"
   ],
   "metadata": {
    "id": "fFhClml9Ojuh"
   }
  },
  {
   "cell_type": "code",
   "source": [
    "import cv2\n",
    "img = cv2.imread(r'C:\\icbt\\final_project\\python\\udamy_tests\\data\\deskew_box.png')"
   ],
   "metadata": {
    "colab": {
     "base_uri": "https://localhost:8080/",
     "height": 809
    },
    "id": "sBtekcxRNKR7",
    "outputId": "1df1e66e-4a78-4e43-9dd7-d33b6edb715d",
    "ExecuteTime": {
     "end_time": "2025-08-31T05:14:32.483664Z",
     "start_time": "2025-08-31T05:14:32.471731Z"
    }
   },
   "outputs": [],
   "execution_count": 65
  },
  {
   "metadata": {
    "ExecuteTime": {
     "end_time": "2025-08-31T05:14:33.843800Z",
     "start_time": "2025-08-31T05:14:32.521109Z"
    }
   },
   "cell_type": "code",
   "source": [
    "cv2.imshow(\"img\", img)\n",
    "cv2.waitKey(0)"
   ],
   "outputs": [
    {
     "data": {
      "text/plain": [
       "-1"
      ]
     },
     "execution_count": 66,
     "metadata": {},
     "output_type": "execute_result"
    }
   ],
   "execution_count": 66
  },
  {
   "cell_type": "markdown",
   "source": [
    "## Detect the Box"
   ],
   "metadata": {
    "id": "dbZ7ejJCOmlH"
   }
  },
  {
   "cell_type": "code",
   "source": [
    "gray = cv2.cvtColor(img, cv2.COLOR_BGR2GRAY)\n",
    "ret, thresh = cv2.threshold(gray, 0, 255, cv2.THRESH_BINARY_INV + cv2.THRESH_OTSU)\n",
    "contours, _ = cv2.findContours(thresh, cv2.RETR_LIST, cv2.CHAIN_APPROX_SIMPLE)"
   ],
   "metadata": {
    "id": "0XOh5sLMOpDD",
    "ExecuteTime": {
     "end_time": "2025-08-31T05:14:33.904188Z",
     "start_time": "2025-08-31T05:14:33.892803Z"
    }
   },
   "outputs": [],
   "execution_count": 67
  },
  {
   "cell_type": "code",
   "source": [
    "contours = sorted(contours, key=cv2.contourArea, reverse=True)\n",
    "max_cont = contours[0]"
   ],
   "metadata": {
    "id": "tTnCiyeqPhpn",
    "ExecuteTime": {
     "end_time": "2025-08-31T05:14:33.942063Z",
     "start_time": "2025-08-31T05:14:33.937979Z"
    }
   },
   "outputs": [],
   "execution_count": 68
  },
  {
   "cell_type": "markdown",
   "source": "## Find the Skeq Angle",
   "metadata": {
    "id": "ytTdwaPKRMd9"
   }
  },
  {
   "cell_type": "code",
   "source": [
    "angle = cv2.minAreaRect(max_cont)[-1]\n",
    "if angle < -45:\n",
    "  angle = 90 + angle"
   ],
   "metadata": {
    "id": "fXSlQ1BSRVaK",
    "ExecuteTime": {
     "end_time": "2025-08-31T05:14:33.975506Z",
     "start_time": "2025-08-31T05:14:33.971919Z"
    }
   },
   "outputs": [],
   "execution_count": 69
  },
  {
   "cell_type": "code",
   "source": [
    "angle"
   ],
   "metadata": {
    "colab": {
     "base_uri": "https://localhost:8080/"
    },
    "id": "uznI115TRu-U",
    "outputId": "49caf919-2307-450c-d8ba-c8613ce5ad98",
    "ExecuteTime": {
     "end_time": "2025-08-31T05:14:34.008174Z",
     "start_time": "2025-08-31T05:14:34.004398Z"
    }
   },
   "outputs": [
    {
     "data": {
      "text/plain": [
       "85.99981689453125"
      ]
     },
     "execution_count": 70,
     "metadata": {},
     "output_type": "execute_result"
    }
   ],
   "execution_count": 70
  },
  {
   "metadata": {},
   "cell_type": "markdown",
   "source": "## Re rotate the image"
  },
  {
   "metadata": {
    "ExecuteTime": {
     "end_time": "2025-08-31T05:14:34.057993Z",
     "start_time": "2025-08-31T05:14:34.051521Z"
    }
   },
   "cell_type": "code",
   "source": [
    "height, width, _ = img.shape\n",
    "center = (width // 2, height // 2)\n",
    "\n",
    "M = cv2.getRotationMatrix2D(center, angle, 1)\n",
    "dst = cv2.warpAffine(img, M, (width, height), flags=cv2.INTER_LINEAR, borderMode=cv2.BORDER_REPLICATE)"
   ],
   "outputs": [],
   "execution_count": 71
  },
  {
   "metadata": {
    "ExecuteTime": {
     "end_time": "2025-08-31T05:14:35.107742Z",
     "start_time": "2025-08-31T05:14:34.100183Z"
    }
   },
   "cell_type": "code",
   "source": [
    "cv2.imshow(\"img\", dst)\n",
    "cv2.waitKey(0)"
   ],
   "outputs": [
    {
     "data": {
      "text/plain": [
       "-1"
      ]
     },
     "execution_count": 72,
     "metadata": {},
     "output_type": "execute_result"
    }
   ],
   "execution_count": 72
  }
 ]
}
